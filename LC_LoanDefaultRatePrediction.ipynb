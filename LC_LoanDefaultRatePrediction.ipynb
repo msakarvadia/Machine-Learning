{
  "nbformat": 4,
  "nbformat_minor": 0,
  "metadata": {
    "colab": {
      "name": "Loan Data",
      "version": "0.3.2",
      "provenance": [],
      "collapsed_sections": []
    },
    "kernelspec": {
      "name": "python3",
      "display_name": "Python 3"
    },
    "accelerator": "TPU"
  },
  "cells": [
    {
      "metadata": {
        "id": "61Mb5qhDyADJ",
        "colab_type": "code",
        "outputId": "043b4649-bbe3-430c-eae9-9407054f8264",
        "colab": {
          "base_uri": "https://localhost:8080/",
          "height": 34
        }
      },
      "cell_type": "code",
      "source": [
        "import matplotlib.pyplot as plt\n",
        "import pandas as pd\n",
        "import numpy as np\n",
        "import matplotlib.pyplot as plt\n",
        "import io\n",
        "from keras.models import Sequential\n",
        "from keras.layers import Dense\n",
        "from keras.layers import Dropout\n",
        "from keras.utils import np_utils"
      ],
      "execution_count": 2,
      "outputs": [
        {
          "output_type": "stream",
          "text": [
            "Using TensorFlow backend.\n"
          ],
          "name": "stderr"
        }
      ]
    },
    {
      "metadata": {
        "id": "460iEBObLn93",
        "colab_type": "code",
        "outputId": "6167229c-6d7f-463e-c38c-717897c8b7f5",
        "colab": {
          "base_uri": "https://localhost:8080/",
          "height": 34
        }
      },
      "cell_type": "code",
      "source": [
        "from google.colab import drive\n",
        "drive.mount('/content/drive')"
      ],
      "execution_count": 3,
      "outputs": [
        {
          "output_type": "stream",
          "text": [
            "Drive already mounted at /content/drive; to attempt to forcibly remount, call drive.mount(\"/content/drive\", force_remount=True).\n"
          ],
          "name": "stdout"
        }
      ]
    },
    {
      "metadata": {
        "id": "bIpFkWSVL0Rk",
        "colab_type": "code",
        "outputId": "6a4a4a12-eab6-4b90-ecba-9015bb01fc7f",
        "colab": {
          "base_uri": "https://localhost:8080/",
          "height": 68
        }
      },
      "cell_type": "code",
      "source": [
        "#!pwd\n",
        "%cd drive/My\\ Drive\n",
        "%cd Colab\\ Notebooks\n",
        "%cd Loan\\ Project\n",
        "# we are in the \"Loan Project directory\" - if there is an issue use \"%cd ... to reenter directory\"\n",
        "#!ls\n",
        "#!cat LoanStats3a_securev1_LendingClub_07-11.csv"
      ],
      "execution_count": 4,
      "outputs": [
        {
          "output_type": "stream",
          "text": [
            "/content/drive/My Drive\n",
            "/content/drive/My Drive/Colab Notebooks\n",
            "/content/drive/My Drive/Colab Notebooks/Loan Project\n"
          ],
          "name": "stdout"
        }
      ]
    },
    {
      "metadata": {
        "id": "1jRm41sTM2UD",
        "colab_type": "code",
        "outputId": "bfb3956a-6395-46d0-a2a2-525b5d6bc52b",
        "colab": {
          "base_uri": "https://localhost:8080/",
          "height": 275
        }
      },
      "cell_type": "code",
      "source": [
        "df_07_11 = pd.read_csv('LoanStats3a_securev1_LendingClub_07-11.csv', sep=\",\", skiprows=1)\n",
        "df_12_13 = pd.read_csv('LoanStats3b_securev1_LendingClub_12-13.csv', sep=\",\", skiprows=1)\n",
        "df_14 = pd.read_csv(\"LoanStats3c_LendingClub_2014.csv\", sep=\",\", skiprows=1)\n",
        "df_15 = pd.read_csv('LoanStats3d_LendingClub_2015.csv', sep=\",\", skiprows=1)\n",
        "df_16Q1 = pd.read_csv('LoanStats_LendingClub_2016Q1.csv', sep=\",\", skiprows=1)\n",
        "df_16Q2 = pd.read_csv('LoanStats_LendingClub_2016Q2.csv', sep=\",\", skiprows=1)\n",
        "df_16Q3 = pd.read_csv('LoanStats_LendingClub_2016Q3.csv', sep=\",\", skiprows=1)\n",
        "df_16Q4 = pd.read_csv('LoanStats_LendingClub_2016Q4.csv', sep=\",\", skiprows=1)\n",
        "df_17Q1 = pd.read_csv('LoanStats_LendingClub_2017Q1.csv', sep=\",\", skiprows=1)\n",
        "df_17Q2 = pd.read_csv('LoanStats_LendingClub_2017Q2.csv', sep=\",\", skiprows=1)\n",
        "df_17Q3 = pd.read_csv('LoanStats_LendingClub_2017Q3.csv', sep=\",\", skiprows=1)\n",
        "df_17Q4 = pd.read_csv('LoanStats_LendingClub_2017Q4.csv', sep=\",\", skiprows=1)\n",
        "df_18Q1 = pd.read_csv('LoanStats_LendingClub_2018Q1.csv', sep=\",\", skiprows=1)\n",
        "df_18Q2 = pd.read_csv('LoanStats_LendingClub_2018Q2.csv', sep=\",\", skiprows=1)\n",
        "df_18Q3 = pd.read_csv('LoanStats_LendingClub_2018Q3.csv', sep=\",\", skiprows=1)"
      ],
      "execution_count": 5,
      "outputs": [
        {
          "output_type": "stream",
          "text": [
            "/usr/local/lib/python3.6/dist-packages/IPython/core/interactiveshell.py:2718: DtypeWarning: Columns (0,49) have mixed types. Specify dtype option on import or set low_memory=False.\n",
            "  interactivity=interactivity, compiler=compiler, result=result)\n",
            "/usr/local/lib/python3.6/dist-packages/IPython/core/interactiveshell.py:2718: DtypeWarning: Columns (0,49,129,130,131,134,135,136,139) have mixed types. Specify dtype option on import or set low_memory=False.\n",
            "  interactivity=interactivity, compiler=compiler, result=result)\n",
            "/usr/local/lib/python3.6/dist-packages/IPython/core/interactiveshell.py:2718: DtypeWarning: Columns (0,19) have mixed types. Specify dtype option on import or set low_memory=False.\n",
            "  interactivity=interactivity, compiler=compiler, result=result)\n",
            "/usr/local/lib/python3.6/dist-packages/IPython/core/interactiveshell.py:2718: DtypeWarning: Columns (0,19,55) have mixed types. Specify dtype option on import or set low_memory=False.\n",
            "  interactivity=interactivity, compiler=compiler, result=result)\n",
            "/usr/local/lib/python3.6/dist-packages/IPython/core/interactiveshell.py:2718: DtypeWarning: Columns (0,112) have mixed types. Specify dtype option on import or set low_memory=False.\n",
            "  interactivity=interactivity, compiler=compiler, result=result)\n",
            "/usr/local/lib/python3.6/dist-packages/IPython/core/interactiveshell.py:2718: DtypeWarning: Columns (0) have mixed types. Specify dtype option on import or set low_memory=False.\n",
            "  interactivity=interactivity, compiler=compiler, result=result)\n",
            "/usr/local/lib/python3.6/dist-packages/IPython/core/interactiveshell.py:2718: DtypeWarning: Columns (0,123,124,125,128,129,130,133,139,140,141) have mixed types. Specify dtype option on import or set low_memory=False.\n",
            "  interactivity=interactivity, compiler=compiler, result=result)\n"
          ],
          "name": "stderr"
        }
      ]
    },
    {
      "metadata": {
        "id": "-cJbN8VZWXIR",
        "colab_type": "code",
        "colab": {}
      },
      "cell_type": "code",
      "source": [
        "frames = [df_07_11, df_12_13, df_14, df_15, df_16Q1, df_16Q2, df_16Q3, df_16Q4, df_17Q1, df_17Q2, df_17Q3, df_17Q4, df_18Q1,df_18Q2,df_18Q3]\n",
        "\n",
        "result = pd.concat(frames, ignore_index=True)"
      ],
      "execution_count": 0,
      "outputs": []
    },
    {
      "metadata": {
        "id": "rardKVy51DnH",
        "colab_type": "code",
        "outputId": "05f568b7-4df6-4669-e236-936d3f4e7c8f",
        "colab": {
          "base_uri": "https://localhost:8080/",
          "height": 34
        }
      },
      "cell_type": "code",
      "source": [
        "result.shape"
      ],
      "execution_count": 8,
      "outputs": [
        {
          "output_type": "execute_result",
          "data": {
            "text/plain": [
              "(2132287, 151)"
            ]
          },
          "metadata": {
            "tags": []
          },
          "execution_count": 8
        }
      ]
    },
    {
      "metadata": {
        "id": "E98gTmpPXopL",
        "colab_type": "code",
        "outputId": "7103fbe7-122c-42c9-8e2f-99bc584c602d",
        "colab": {
          "base_uri": "https://localhost:8080/",
          "height": 34
        }
      },
      "cell_type": "code",
      "source": [
        "result.drop(columns=['id', 'member_id','url','zip_code'], inplace=True)\n",
        "result.shape"
      ],
      "execution_count": 11,
      "outputs": [
        {
          "output_type": "execute_result",
          "data": {
            "text/plain": [
              "(2132287, 147)"
            ]
          },
          "metadata": {
            "tags": []
          },
          "execution_count": 11
        }
      ]
    },
    {
      "metadata": {
        "id": "YZg_vOleJb-T",
        "colab_type": "code",
        "outputId": "616e0891-ac46-4e34-8ab2-6424a5ce5efb",
        "colab": {
          "base_uri": "https://localhost:8080/",
          "height": 34
        }
      },
      "cell_type": "code",
      "source": [
        "#\"loan_status\" is the column heading of whether it defulted or not\n",
        "x = result.copy()\n",
        "#labels = df.loc[:,\"loan_status\"]\n",
        "y = result['loan_status'].copy()\n",
        "y.shape[0]\n"
      ],
      "execution_count": 12,
      "outputs": [
        {
          "output_type": "execute_result",
          "data": {
            "text/plain": [
              "2132287"
            ]
          },
          "metadata": {
            "tags": []
          },
          "execution_count": 12
        }
      ]
    },
    {
      "metadata": {
        "id": "2yeZXoFyx5TR",
        "colab_type": "code",
        "colab": {
          "base_uri": "https://localhost:8080/",
          "height": 204
        },
        "outputId": "b2533b49-93d4-465b-d45b-7ef0d50bc9bd"
      },
      "cell_type": "code",
      "source": [
        "label = []\n",
        "for i in range(y.shape[0]):\n",
        "  if y[i] not in label:\n",
        "    label.append(y[i])\n",
        "\n",
        "for i in range(len(label)):\n",
        "  print(label[i])\n",
        "  \n",
        "print(\"There are\", len(label), \"labels\")"
      ],
      "execution_count": 15,
      "outputs": [
        {
          "output_type": "stream",
          "text": [
            "Fully Paid\n",
            "Charged Off\n",
            "nan\n",
            "Does not meet the credit policy. Status:Fully Paid\n",
            "Does not meet the credit policy. Status:Charged Off\n",
            "Late (31-120 days)\n",
            "Current\n",
            "Late (16-30 days)\n",
            "In Grace Period\n",
            "Default\n",
            "There are 10 labels\n"
          ],
          "name": "stdout"
        }
      ]
    },
    {
      "metadata": {
        "id": "knSRqCAAzE7q",
        "colab_type": "text"
      },
      "cell_type": "markdown",
      "source": [
        "##NOTES about loan_status (aka. labels):\n",
        "\n",
        "\n",
        "*   if label is \"nan\" - we throw that loan out of the training set\n",
        "*   Current means that the loan is still being paid off, and therefore we cannot use for out training - might be useful to comeback and revisit in the future (maybe predict outcome now) - will be thrown out of training set\n",
        "*   fully paid  - successful loan\n",
        "\n",
        "\n",
        "---\n",
        "\n",
        "\n",
        "*   what is \"charged off\" vs \"default\"\n",
        " *   \"Loans that are in \"Default\" are loans for which borrowers have failed to make payments for an extended period of time. A loan becomes “Charged Off” when there is no longer a reasonable expectation of further payments.  Charge Off typically occurs when a loan is 120 days or more past due and there is no reasonable expectation of sufficient payment to prevent the charge off.  In certain circumstances, loans may be charged off at an earlier or later date.  Please note, loans for which borrowers have filed for bankruptcy may be charged off earlier based on the date of bankruptcy notification.\n",
        " A loan that is in “Default” will still appear in your Notes, in the status of “Default,” while a loan that has been “Charged Off” will appear as charged off, and the remaining principal balance of the Note will be deducted from your account balance.  Learn more about what happens when a loan is charged off\"\n",
        " *   Because in the case of \"charged off\" vs \"default\" the lender has extremely low chance of recovering their investment, we will treat both of these classifications as if they are the same thing\n",
        "\n",
        "---\n",
        "\n",
        "\n",
        "*   what does it mean if it \"does not meet the credit policy\"\n",
        " *   Lending Club doesn't make clear the meaning of this statement, but from general internet research most ppl just ommit the \"does not meet the credit policy\" part and use the second half of the classification\n",
        "---\n",
        "*   what does \"grace period\" mean - should we potentially throw those away?\n",
        " * Loan is past due but within the 15-day grace period. - we will throw these away because for training data it isn't useful since the final status of loan isn't avaliable\n",
        "*   if its late - does that mean status is still being finalized? - should we throw away?\n",
        " * if it is late we don't use this loan in training set cus finalized status isn't avalible to confirm predictions\n",
        "\n"
      ]
    },
    {
      "metadata": {
        "id": "QtWe5PGAzEcO",
        "colab_type": "code",
        "colab": {}
      },
      "cell_type": "code",
      "source": [
        ""
      ],
      "execution_count": 0,
      "outputs": []
    }
  ]
}